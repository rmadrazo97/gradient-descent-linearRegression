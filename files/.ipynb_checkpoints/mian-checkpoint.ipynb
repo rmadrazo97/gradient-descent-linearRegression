{
 "cells": [
  {
   "cell_type": "code",
   "execution_count": 3,
   "metadata": {},
   "outputs": [],
   "source": [
    "#imports \n",
    "import numpy as np\n",
    "import pandas as pd\n",
    "import matplotlib.pyplot as plt\n",
    "\n"
   ]
  },
  {
   "cell_type": "code",
   "execution_count": 4,
   "metadata": {},
   "outputs": [],
   "source": [
    "# read data\n",
    "def getData():\n",
    "    data = pd.read_csv('data1.csv')\n",
    "    \n",
    "    X = data.iloc[:, 0]\n",
    "    Y = data.iloc[:, 1]\n",
    "    \n",
    "    #plt.scatter(X, Y)\n",
    "    #plt.show()\n",
    "    return X,Y"
   ]
  },
  {
   "cell_type": "code",
   "execution_count": 5,
   "metadata": {},
   "outputs": [],
   "source": [
    "#linear regression with Gradient descent ASAP: lr_gp\n",
    "def lr_gp(lr,it):\n",
    "    #start m & b at 0. (y = mX + b)\n",
    "    m = 0\n",
    "    b = 0\n",
    "    \n",
    "    #learning rate\n",
    "    #lr = 0.0002\n",
    "    \n",
    "    #number of iterations to adjust or learn\n",
    "    #it = 1000\n",
    "    X, Y = getData();\n",
    "    \n",
    "    n = float(len(X))\n",
    "    \n",
    "    for i in range (it):\n",
    "        # y guess\n",
    "        y_guess = (m*X)+b\n",
    "        \n",
    "        # finding Error\n",
    "        error = Y - y_guess\n",
    "        \n",
    "        dM = (-2/n) * sum(X * (error)) \n",
    "        dC = (-2/n) * sum(error)\n",
    "        \n",
    "        '''\n",
    "        Before: \n",
    "        m = m + (error * X) * lr\n",
    "        b = b + (error) * lr\n",
    "        '''\n",
    "        \n",
    "        #adjust our guess\n",
    "        m = m - lr * dM\n",
    "        b = b - lr * dC\n",
    "        \n",
    "        y_final_guess = (m*X)+b\n",
    "    \n",
    "    plt.scatter(X, Y) \n",
    "    plt.plot([min(X), max(X)], [min(y_final_guess), max(y_final_guess)], color='orange') \n",
    "    plt.title('Linear Regression With Gradient Descent')\n",
    "    plt.show()\n",
    "\n",
    "    "
   ]
  },
  {
   "cell_type": "code",
   "execution_count": 6,
   "metadata": {},
   "outputs": [
    {
     "data": {
      "image/png": "[encoded data removed]",
      "text/plain": [
       "<Figure size 432x288 with 1 Axes>"
      ]
     },
     "metadata": {
      "needs_background": "light"
     },
     "output_type": "display_data"
    }
   ],
   "source": [
    "lr_gp(0.0002,1000)"
   ]
  },
  {
   "cell_type": "code",
   "execution_count": null,
   "metadata": {},
   "outputs": [],
   "source": []
  }
 ],
 "metadata": {
  "kernelspec": {
   "display_name": "Python 3",
   "language": "python",
   "name": "python3"
  },
  "language_info": {
   "codemirror_mode": {
    "name": "ipython",
    "version": 3
   },
   "file_extension": ".py",
   "mimetype": "text/x-python",
   "name": "python",
   "nbconvert_exporter": "python",
   "pygments_lexer": "ipython3",
   "version": "3.5.3"
  }
 },
 "nbformat": 4,
 "nbformat_minor": 4
}
